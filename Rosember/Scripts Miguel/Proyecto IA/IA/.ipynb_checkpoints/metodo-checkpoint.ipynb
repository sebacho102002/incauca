{
 "cells": [
  {
   "cell_type": "code",
   "execution_count": 12,
   "id": "484f1f60-bd01-43f2-9acd-883698bc1c6c",
   "metadata": {
    "tags": []
   },
   "outputs": [
    {
     "ename": "SyntaxError",
     "evalue": "expected ':' (322248140.py, line 1)",
     "output_type": "error",
     "traceback": [
      "\u001b[1;36m  File \u001b[1;32m~\\AppData\\Local\\Temp\\ipykernel_20416\\322248140.py:1\u001b[1;36m\u001b[0m\n\u001b[1;33m    def mover(self, direccion)\u001b[0m\n\u001b[1;37m                              ^\u001b[0m\n\u001b[1;31mSyntaxError\u001b[0m\u001b[1;31m:\u001b[0m expected ':'\n"
     ]
    },
    {
     "ename": "SyntaxError",
     "evalue": "expected ':' (322248140.py, line 1)",
     "output_type": "error",
     "traceback": [
      "Traceback \u001b[1;36m(most recent call last)\u001b[0m:\n",
      "\u001b[0m  File \u001b[0;32m~\\anaconda3\\Lib\\site-packages\\IPython\\core\\interactiveshell.py:3505\u001b[0m in \u001b[0;35mrun_code\u001b[0m\n    exec(code_obj, self.user_global_ns, self.user_ns)\u001b[0m\n",
      "\u001b[0m  Cell \u001b[0;32mIn[12], line 1\u001b[0m\n    get_ipython().run_line_magic('run', '\"nodo.ipynb\":')\u001b[0m\n",
      "\u001b[0m  File \u001b[0;32m~\\anaconda3\\Lib\\site-packages\\IPython\\core\\interactiveshell.py:2414\u001b[0m in \u001b[0;35mrun_line_magic\u001b[0m\n    result = fn(*args, **kwargs)\u001b[0m\n",
      "\u001b[0m  File \u001b[0;32m~\\anaconda3\\Lib\\site-packages\\IPython\\core\\magics\\execution.py:722\u001b[0m in \u001b[0;35mrun\u001b[0m\n    self.shell.safe_execfile_ipy(filename, raise_exceptions=True)\u001b[0m\n",
      "\u001b[0m  File \u001b[0;32m~\\anaconda3\\Lib\\site-packages\\IPython\\core\\interactiveshell.py:2936\u001b[0m in \u001b[0;35msafe_execfile_ipy\u001b[0m\n    result.raise_error()\u001b[0m\n",
      "\u001b[0m  File \u001b[0;32m~\\anaconda3\\Lib\\site-packages\\IPython\\core\\interactiveshell.py:266\u001b[0m in \u001b[0;35mraise_error\u001b[0m\n    raise self.error_before_exec\u001b[0m\n",
      "\u001b[0m  File \u001b[0;32m~\\anaconda3\\Lib\\site-packages\\IPython\\core\\interactiveshell.py:3238\u001b[0m in \u001b[0;35mrun_cell_async\u001b[0m\n    code_ast = compiler.ast_parse(cell, filename=cell_name)\u001b[0m\n",
      "\u001b[1;36m  File \u001b[1;32m~\\anaconda3\\Lib\\site-packages\\IPython\\core\\compilerop.py:86\u001b[1;36m in \u001b[1;35mast_parse\u001b[1;36m\n\u001b[1;33m    return compile(source, filename, symbol, self.flags | PyCF_ONLY_AST, 1)\u001b[1;36m\n",
      "\u001b[1;36m  File \u001b[1;32m~\\AppData\\Local\\Temp\\ipykernel_20416\\322248140.py:1\u001b[1;36m\u001b[0m\n\u001b[1;33m    def mover(self, direccion)\u001b[0m\n\u001b[1;37m                              ^\u001b[0m\n\u001b[1;31mSyntaxError\u001b[0m\u001b[1;31m:\u001b[0m expected ':'\n"
     ]
    }
   ],
   "source": [
    "%run \"nodo.ipynb\":\n",
    "\n",
    "matriz = leerMatriz(\"C:\\\\Users\\\\rodri\\\\Desktop\\\\IA\\\\Prueba1.txt\")\n",
    "\n",
    "cola_nodos = [nodo_inicial]\n",
    "\n",
    "def busqueda():\n",
    "    nodo_inicial = Nodo(None, None, None, 0)\n",
    "    while cola_nodos:\n",
    "        nodo_actual = cola_nodos.pop(0)\n",
    "        for direccion in ['arriba', 'abajo', 'izquierda', 'derecha']:\n",
    "            hijo = mover(direccion)\n",
    "            if hijo is not None:\n",
    "                cola_nodos.append(hijo)\n",
    "\n",
    "                \n",
    "def leerMatriz(file_path):\n",
    "    with open(file_path, 'r') as file:\n",
    "        matriz = [linea.strip().split() for linea in file.readlines()]\n",
    "    return matriz\n",
    "\n",
    "\n",
    "def encontrar_inicio(entorno):\n",
    "    for fila_index, fila in enumerate(entorno):\n",
    "        for col_index, valor in enumerate(fila):\n",
    "            if valor == '5':\n",
    "                return fila_index, col_index\n",
    "    return None\n",
    "\n",
    "def mover(self, direccion):\n",
    "        # Copia la matriz actual para evitar modificar la original\n",
    "        nueva_entorno = [fila[:] for fila in self.entorno]\n",
    "        fila, columna = self.encontrar_inicio()\n",
    "        dx, dy = movimientos[direccion]\n",
    "        nueva_fila = fila + dx\n",
    "        nueva_columna = columna + dy\n",
    "        \n",
    "        # Definir movimientos posibles\n",
    "        movimientos = {\n",
    "            'arriba': (-1, 0),\n",
    "            'abajo': (1, 0),\n",
    "            'izquierda': (0, -1),\n",
    "            'derecha': (0, 1)\n",
    "        }\n",
    "        \n",
    "        if direccion in movimientos:  \n",
    "            # Verificar si la nueva posición está dentro de los límites de la matriz\n",
    "            if 0 <= nueva_fila < len(nueva_entorno) and 0 <= nueva_columna < len(nueva_entorno[0]):\n",
    "                # Verificar si la nueva posición es una casilla libre (contiene '0')\n",
    "                if nueva_entorno[nueva_fila][nueva_columna] == '0':\n",
    "                    # Realizar el movimiento\n",
    "                    nueva_entorno[fila][columna], nueva_entorno[nueva_fila][nueva_columna] = nueva_entorno[nueva_fila][nueva_columna], nueva_entorno[fila][columna]\n",
    "                    return Nodo(nueva_entorno, self, direccion, self.profundidad + 1)\n",
    "        \n",
    "        # Si la dirección no es válida o el movimiento no es posible, devolvemos None\n",
    "        return None\n",
    "\n",
    "\n",
    "\n",
    "        \n",
    "\n",
    "    \n",
    "    "
   ]
  },
  {
   "cell_type": "code",
   "execution_count": null,
   "id": "ae9cc44a-2102-4e38-b83c-cf6a182163be",
   "metadata": {
    "tags": []
   },
   "outputs": [],
   "source": [
    "\n"
   ]
  },
  {
   "cell_type": "code",
   "execution_count": null,
   "id": "fe761da6-e8e4-47d8-94b4-e41994ee5d75",
   "metadata": {},
   "outputs": [],
   "source": []
  },
  {
   "cell_type": "code",
   "execution_count": null,
   "id": "3ea6d80a-cbeb-46b0-8241-117fd30054a2",
   "metadata": {},
   "outputs": [],
   "source": []
  }
 ],
 "metadata": {
  "kernelspec": {
   "display_name": "Python 3 (ipykernel)",
   "language": "python",
   "name": "python3"
  },
  "language_info": {
   "codemirror_mode": {
    "name": "ipython",
    "version": 3
   },
   "file_extension": ".py",
   "mimetype": "text/x-python",
   "name": "python",
   "nbconvert_exporter": "python",
   "pygments_lexer": "ipython3",
   "version": "3.11.3"
  }
 },
 "nbformat": 4,
 "nbformat_minor": 5
}
