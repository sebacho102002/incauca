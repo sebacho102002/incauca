{
 "cells": [
  {
   "cell_type": "code",
   "execution_count": 5,
   "id": "c344c70d-f2e1-4fd9-8a35-ded8c6f399ce",
   "metadata": {
    "tags": []
   },
   "outputs": [
    {
     "data": {
      "text/plain": [
       "'\\nmatriz = Nodo.leerMatriz(\"C:\\\\Users\\\\rodri\\\\Desktop\\\\IA\\\\Prueba1.txt\")\\nnodo = Nodo(matriz, None, None, None)\\nposicion_cinco = nodo.encontrar_inicio()\\n\\nif posicion_cinco:\\n   fila, columna = posicion_cinco\\n   print(f\"El número 5 se encuentra en la fila {fila}, columna {columna}\")\\nelse:\\n   print(\"El número 5 no se encuentra en la matriz.\")\\n'"
      ]
     },
     "execution_count": 5,
     "metadata": {},
     "output_type": "execute_result"
    }
   ],
   "source": [
    " class Nodo:\n",
    "    \n",
    "    \n",
    "    def __init__(self, entorno, padre, operador, profundidad):\n",
    "        self.entorno = entorno\n",
    "        self.padre = padre\n",
    "        self.operador = operador\n",
    "        self.profundidad = 0\n",
    "        \n",
    "    # Métodos getters\n",
    "    def get_entorno(self):\n",
    "        return self.entorno\n",
    "\n",
    "    def get_padre(self):\n",
    "        return self.padre\n",
    "\n",
    "    def get_operador(self):\n",
    "        return self.operador\n",
    "\n",
    "    def get_profundidad(self):\n",
    "        return self.profundidad\n",
    "    \n",
    "    \n",
    "        \n",
    "    #print(entorno)\n",
    "    #print(profundidad)\n",
    "        \n",
    "\n",
    "\n",
    "    \n",
    "\n",
    "\n",
    "\n",
    "\"\"\"\n",
    "matriz = Nodo.leerMatriz(\"C:\\\\Users\\\\rodri\\\\Desktop\\\\IA\\\\Prueba1.txt\")\n",
    "nodo = Nodo(matriz, None, None, None)\n",
    "posicion_cinco = nodo.encontrar_inicio()\n",
    "\n",
    "if posicion_cinco:\n",
    "    fila, columna = posicion_cinco\n",
    "    print(f\"El número 5 se encuentra en la fila {fila}, columna {columna}\")\n",
    "else:\n",
    "    print(\"El número 5 no se encuentra en la matriz.\")\n",
    "\"\"\""
   ]
  },
  {
   "cell_type": "code",
   "execution_count": 143,
   "id": "558780e8-8239-4a30-824f-7dc4a5c348bb",
   "metadata": {
    "tags": []
   },
   "outputs": [],
   "source": [
    "    def mover(self, direccion)\n",
    "    \n",
    "    nuevo_entorno = [fila[:] for fila in self.entorno]\n",
    "    fila, columna = self.encontrar_inicio()\n",
    "    #\n",
    "     movimientos = {\n",
    "            'arriba': (-1, 0),\n",
    "            'abajo': (1, 0),\n",
    "            'izquierda': (0, -1),\n",
    "            'derecha': (0, 1)\n",
    "    }\n",
    "        \n",
    "    if direccion in movimientos:\n",
    "        dx, dy = movimientos[direccion]\n",
    "        nueva_fila = fila + dx\n",
    "        nueva_columna = fila + dy\n",
    "        \n",
    "        if 0 <= nueva_fila < len(nuevo_entorno) and 0 <= nueva_columna < len(nuevo_entorno):\n",
    "            if nuevo_entorno[nueva_fila][nueva_columna] == '0':\n",
    "                 nueva_entorno[fila][columna], nueva_entorno[nueva_fila][nueva_columna] = nueva_entorno[nueva_fila][nueva_columna], nueva_entorno[fila][columna]\n",
    "                    return Nodo(nueva_entorno, self, direccion, self.profundidad + 1)\n",
    "    return None\n",
    "        \n",
    "    \n",
    "    "
   ]
  },
  {
   "cell_type": "code",
   "execution_count": null,
   "id": "76d024b2-dbb9-4fc8-b997-29b583346d23",
   "metadata": {
    "tags": []
   },
   "outputs": [],
   "source": [
    "   def buscar_camino(matriz, inicio, objetivo):\n",
    "        movimientos = [(1, 0), (-1, 0), (0, 1), (0, -1)]\n",
    "        \n"
   ]
  },
  {
   "cell_type": "code",
   "execution_count": null,
   "id": "32e003ed-f7bf-458b-9d5b-1ea40b5095c4",
   "metadata": {},
   "outputs": [],
   "source": [
    "def mover(self, direccion):\n",
    "        fila = 0\n",
    "        col = 0\n",
    "        hijo = [list(row) for row in self.entorno]\n",
    "\n",
    "        for i in range(3):\n",
    "            for j in range(3):\n",
    "                if hijo[i][j] == 0:\n",
    "                    fila = i\n",
    "                    col = j\n",
    "\n",
    "        if direccion == 1:  # Izquierda\n",
    "            hijo[fila][col] = hijo[fila][col - 1]\n",
    "            hijo[fila][col - 1] = 0\n",
    "\n",
    "        if direccion == 2:  # Abajo\n",
    "            hijo[fila][col] = hijo[fila + 1][col]\n",
    "            hijo[fila + 1][col] = 0\n",
    "\n",
    "        return hijo"
   ]
  },
  {
   "cell_type": "code",
   "execution_count": 58,
   "id": "e49c859b-7a8f-4e8e-9a1c-4cf3a73d8822",
   "metadata": {
    "tags": []
   },
   "outputs": [
    {
     "name": "stdout",
     "output_type": "stream",
     "text": [
      "0 0 0 0  \n",
      "0 1 1 3  \n",
      "2 1 0 0  \n",
      "0 0 0 1  \n"
     ]
    }
   ],
   "source": [
    "   def mostrarMatriz(matriz):\n",
    "       for fila in matriz:\n",
    "           for elemento in fila:\n",
    "               print(elemento, end=\" \")  # Imprimir el elemento y un espacio en lugar de un salto de línea\n",
    "           print(\" \")  # Salto de línea al final de cada fila\n",
    "\n",
    "   entorno = leerMatriz(\"C:\\\\Users\\\\rodri\\\\Desktop\\\\IA\\\\entorno.txt\")\n",
    "mostrarMatriz(entorno)"
   ]
  }
 ],
 "metadata": {
  "kernelspec": {
   "display_name": "Python 3 (ipykernel)",
   "language": "python",
   "name": "python3"
  },
  "language_info": {
   "codemirror_mode": {
    "name": "ipython",
    "version": 3
   },
   "file_extension": ".py",
   "mimetype": "text/x-python",
   "name": "python",
   "nbconvert_exporter": "python",
   "pygments_lexer": "ipython3",
   "version": "3.11.3"
  }
 },
 "nbformat": 4,
 "nbformat_minor": 5
}
